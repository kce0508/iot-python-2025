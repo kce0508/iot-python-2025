{
 "cells": [
  {
   "cell_type": "markdown",
   "metadata": {},
   "source": [
    "1. 반지름 값을 입력 받아 원의 넓이를 출력하는 프로그램 구현(π는 3.141592)"
   ]
  },
  {
   "cell_type": "code",
   "execution_count": 5,
   "metadata": {},
   "outputs": [
    {
     "name": "stdout",
     "output_type": "stream",
     "text": [
      "원의 넓이 :  5026.5472\n"
     ]
    }
   ],
   "source": [
    "# from math import *\n",
    "Radius = float(input(\"원의 반지름을 입력하세요 \\n\"))\n",
    "Area = (Radius ** 2) * 3.141592\n",
    "print(\"원의 넓이 : \", Area )"
   ]
  },
  {
   "cell_type": "markdown",
   "metadata": {},
   "source": [
    "2. 영문이름 입력시 웹사이트 주소가 리턴되는 함수, get_url()구현"
   ]
  },
  {
   "cell_type": "code",
   "execution_count": 21,
   "metadata": {},
   "outputs": [
    {
     "name": "stdout",
     "output_type": "stream",
     "text": [
      "www.kimchaeeun.com\n"
     ]
    }
   ],
   "source": [
    "def get_url(name):\n",
    "\n",
    "    formatted_name = name.strip().replace(\" \", \"\").lower()\n",
    "    return f\"www.{formatted_name}.com\"\n",
    "\n",
    "name = input(\"영문이름을 입력하세요: \")\n",
    "url = get_url(name)\n",
    "print(url)"
   ]
  },
  {
   "cell_type": "markdown",
   "metadata": {},
   "source": [
    "3. 구구단을 수행할 단번호를 입력하면 그 단의 9까지의 결과를 나열하는 프로그램 입력"
   ]
  },
  {
   "cell_type": "code",
   "execution_count": null,
   "metadata": {},
   "outputs": [
    {
     "name": "stdout",
     "output_type": "stream",
     "text": [
      "잘못 입력되었습니다.\n",
      "5 * 0 = 0\n",
      "5 * 1 = 5\n",
      "5 * 2 = 10\n",
      "5 * 3 = 15\n",
      "5 * 4 = 20\n",
      "5 * 5 = 25\n",
      "5 * 6 = 30\n",
      "5 * 7 = 35\n",
      "5 * 8 = 40\n",
      "5 * 9 = 45\n"
     ]
    }
   ],
   "source": [
    "if __name__ == \"__main__\": \n",
    "\n",
    "    num = int(input(\"1-9 사이의 단번호를 입력하세요 : \"))\n",
    "\n",
    "    while (num < 1 or num > 9):\n",
    "\n",
    "        print(\"잘못 입력되었습니다.\")\n",
    "        num = int(input(\"1-9 사이의 단을 다시 입력하세요: \"))\n",
    "\n",
    "    for i in range(0, 10):\n",
    "        print(num, \"*\", i, \"=\", num * i)"
   ]
  },
  {
   "cell_type": "markdown",
   "metadata": {},
   "source": [
    "4. 입력한 수를 거꾸로 출력하는 프로그램"
   ]
  },
  {
   "cell_type": "code",
   "execution_count": null,
   "metadata": {},
   "outputs": [
    {
     "name": "stdout",
     "output_type": "stream",
     "text": [
      "12348612486245\n"
     ]
    }
   ],
   "source": [
    "a = int(input())\n",
    "print(int(str(a)[::-1 ]))"
   ]
  },
  {
   "cell_type": "markdown",
   "metadata": {},
   "source": [
    "5. SmartPhone"
   ]
  },
  {
   "cell_type": "code",
   "execution_count": 22,
   "metadata": {},
   "outputs": [
    {
     "name": "stdout",
     "output_type": "stream",
     "text": [
      "phone Owner: Kim Chaeeun\n",
      "phone Number: 123-456-7890\n",
      "Company: apple\n"
     ]
    }
   ],
   "source": [
    "class SmartPhone:\n",
    "    def __init__(self, phoneOwner, phoneNumber, Company):\n",
    "        self.phoneOwner = phoneOwner\n",
    "        self.phoneNumber = phoneNumber\n",
    "        self.Company = Company\n",
    "    def display_info(self):\n",
    "        print(f\"phone Owner: {self.phoneOwner}\")\n",
    "        print(f\"phone Number: {self.phoneNumber}\")\n",
    "        print(f\"Company: {self.Company}\")\n",
    "my_phone = SmartPhone(\"Kim Chaeeun\", \"123-456-7890\", \"apple\")\n",
    "my_phone.display_info()"
   ]
  },
  {
   "cell_type": "code",
   "execution_count": null,
   "metadata": {},
   "outputs": [],
   "source": []
  }
 ],
 "metadata": {
  "kernelspec": {
   "display_name": "3.11.9",
   "language": "python",
   "name": "python3"
  },
  "language_info": {
   "codemirror_mode": {
    "name": "ipython",
    "version": 3
   },
   "file_extension": ".py",
   "mimetype": "text/x-python",
   "name": "python",
   "nbconvert_exporter": "python",
   "pygments_lexer": "ipython3",
   "version": "3.11.9"
  }
 },
 "nbformat": 4,
 "nbformat_minor": 2
}
